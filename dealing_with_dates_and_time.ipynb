{
  "nbformat": 4,
  "nbformat_minor": 0,
  "metadata": {
    "colab": {
      "name": "dealing with dates and time.ipynb",
      "provenance": []
    },
    "kernelspec": {
      "name": "python3",
      "display_name": "Python 3"
    },
    "accelerator": "GPU"
  },
  "cells": [
    {
      "cell_type": "code",
      "metadata": {
        "id": "jrXIfmCeH3Ka"
      },
      "source": [
        "import numpy as np\r\n",
        "import pandas as pd"
      ],
      "execution_count": 2,
      "outputs": []
    },
    {
      "cell_type": "code",
      "metadata": {
        "colab": {
          "base_uri": "https://localhost:8080/"
        },
        "id": "Al4565-pH6XB",
        "outputId": "df385fad-591e-44d6-e419-23215da52a17"
      },
      "source": [
        "pd.date_range('2016 Dec 19 5:00', periods = 7, freq='D')"
      ],
      "execution_count": 3,
      "outputs": [
        {
          "output_type": "execute_result",
          "data": {
            "text/plain": [
              "DatetimeIndex(['2016-12-19 05:00:00', '2016-12-20 05:00:00',\n",
              "               '2016-12-21 05:00:00', '2016-12-22 05:00:00',\n",
              "               '2016-12-23 05:00:00', '2016-12-24 05:00:00',\n",
              "               '2016-12-25 05:00:00'],\n",
              "              dtype='datetime64[ns]', freq='D')"
            ]
          },
          "metadata": {
            "tags": []
          },
          "execution_count": 3
        }
      ]
    },
    {
      "cell_type": "code",
      "metadata": {
        "colab": {
          "base_uri": "https://localhost:8080/"
        },
        "id": "Ncb4GgqfICc7",
        "outputId": "b55eefd8-d533-4c5a-93a3-22b756a54647"
      },
      "source": [
        "pd.date_range('2016 Dec 19 5:00', periods = 7, freq='B')"
      ],
      "execution_count": 4,
      "outputs": [
        {
          "output_type": "execute_result",
          "data": {
            "text/plain": [
              "DatetimeIndex(['2016-12-19 05:00:00', '2016-12-20 05:00:00',\n",
              "               '2016-12-21 05:00:00', '2016-12-22 05:00:00',\n",
              "               '2016-12-23 05:00:00', '2016-12-26 05:00:00',\n",
              "               '2016-12-27 05:00:00'],\n",
              "              dtype='datetime64[ns]', freq='B')"
            ]
          },
          "metadata": {
            "tags": []
          },
          "execution_count": 4
        }
      ]
    },
    {
      "cell_type": "code",
      "metadata": {
        "colab": {
          "base_uri": "https://localhost:8080/"
        },
        "id": "lBGRmT52IFV5",
        "outputId": "010e6ee5-edc0-4a86-b823-b7d917203693"
      },
      "source": [
        "pd.date_range('2016 Dec 19 5:00', periods = 7, freq='H')"
      ],
      "execution_count": 5,
      "outputs": [
        {
          "output_type": "execute_result",
          "data": {
            "text/plain": [
              "DatetimeIndex(['2016-12-19 05:00:00', '2016-12-19 06:00:00',\n",
              "               '2016-12-19 07:00:00', '2016-12-19 08:00:00',\n",
              "               '2016-12-19 09:00:00', '2016-12-19 10:00:00',\n",
              "               '2016-12-19 11:00:00'],\n",
              "              dtype='datetime64[ns]', freq='H')"
            ]
          },
          "metadata": {
            "tags": []
          },
          "execution_count": 5
        }
      ]
    },
    {
      "cell_type": "code",
      "metadata": {
        "colab": {
          "base_uri": "https://localhost:8080/"
        },
        "id": "AdajJ9QLIIEY",
        "outputId": "fa67417f-e797-4d3c-c574-1c4f424aa0c3"
      },
      "source": [
        "pd.date_range('2016 Dec 19 5:00', periods = 7, freq='M')"
      ],
      "execution_count": 6,
      "outputs": [
        {
          "output_type": "execute_result",
          "data": {
            "text/plain": [
              "DatetimeIndex(['2016-12-31 05:00:00', '2017-01-31 05:00:00',\n",
              "               '2017-02-28 05:00:00', '2017-03-31 05:00:00',\n",
              "               '2017-04-30 05:00:00', '2017-05-31 05:00:00',\n",
              "               '2017-06-30 05:00:00'],\n",
              "              dtype='datetime64[ns]', freq='M')"
            ]
          },
          "metadata": {
            "tags": []
          },
          "execution_count": 6
        }
      ]
    },
    {
      "cell_type": "code",
      "metadata": {
        "colab": {
          "base_uri": "https://localhost:8080/"
        },
        "id": "Nb9L4oWYILXK",
        "outputId": "2c15b9c4-a294-4577-e610-40e3a522ea3e"
      },
      "source": [
        "pd.date_range('2016 Dec 19 5:00', periods = 7, freq='MS')"
      ],
      "execution_count": 7,
      "outputs": [
        {
          "output_type": "execute_result",
          "data": {
            "text/plain": [
              "DatetimeIndex(['2017-01-01 05:00:00', '2017-02-01 05:00:00',\n",
              "               '2017-03-01 05:00:00', '2017-04-01 05:00:00',\n",
              "               '2017-05-01 05:00:00', '2017-06-01 05:00:00',\n",
              "               '2017-07-01 05:00:00'],\n",
              "              dtype='datetime64[ns]', freq='MS')"
            ]
          },
          "metadata": {
            "tags": []
          },
          "execution_count": 7
        }
      ]
    },
    {
      "cell_type": "code",
      "metadata": {
        "colab": {
          "base_uri": "https://localhost:8080/"
        },
        "id": "Vl_M_5aCIQIa",
        "outputId": "f9eb5f0c-ac44-4040-98e3-714c0c69cb5c"
      },
      "source": [
        "pd.date_range('2016 Dec 7 5:00', periods = 7, freq='MS')"
      ],
      "execution_count": 8,
      "outputs": [
        {
          "output_type": "execute_result",
          "data": {
            "text/plain": [
              "DatetimeIndex(['2017-01-01 05:00:00', '2017-02-01 05:00:00',\n",
              "               '2017-03-01 05:00:00', '2017-04-01 05:00:00',\n",
              "               '2017-05-01 05:00:00', '2017-06-01 05:00:00',\n",
              "               '2017-07-01 05:00:00'],\n",
              "              dtype='datetime64[ns]', freq='MS')"
            ]
          },
          "metadata": {
            "tags": []
          },
          "execution_count": 8
        }
      ]
    },
    {
      "cell_type": "code",
      "metadata": {
        "colab": {
          "base_uri": "https://localhost:8080/"
        },
        "id": "inoQz8wVIVbQ",
        "outputId": "caccfa9c-3fb5-4675-df0f-9a8fdcfc8a97"
      },
      "source": [
        "pd.date_range(start='2016 Dec 2 5:20', end='2016 Dec 10', freq='20H')"
      ],
      "execution_count": 9,
      "outputs": [
        {
          "output_type": "execute_result",
          "data": {
            "text/plain": [
              "DatetimeIndex(['2016-12-02 05:20:00', '2016-12-03 01:20:00',\n",
              "               '2016-12-03 21:20:00', '2016-12-04 17:20:00',\n",
              "               '2016-12-05 13:20:00', '2016-12-06 09:20:00',\n",
              "               '2016-12-07 05:20:00', '2016-12-08 01:20:00',\n",
              "               '2016-12-08 21:20:00', '2016-12-09 17:20:00'],\n",
              "              dtype='datetime64[ns]', freq='20H')"
            ]
          },
          "metadata": {
            "tags": []
          },
          "execution_count": 9
        }
      ]
    },
    {
      "cell_type": "code",
      "metadata": {
        "colab": {
          "base_uri": "https://localhost:8080/"
        },
        "id": "Iifg_jjmIXda",
        "outputId": "aefa7c62-e3bf-4c5b-ba5a-3e24a442a882"
      },
      "source": [
        "pd.date_range(start='2016 Dec 19 4:35', end='2016 Dec 27 5:45', freq='34H')"
      ],
      "execution_count": 10,
      "outputs": [
        {
          "output_type": "execute_result",
          "data": {
            "text/plain": [
              "DatetimeIndex(['2016-12-19 04:35:00', '2016-12-20 14:35:00',\n",
              "               '2016-12-22 00:35:00', '2016-12-23 10:35:00',\n",
              "               '2016-12-24 20:35:00', '2016-12-26 06:35:00'],\n",
              "              dtype='datetime64[ns]', freq='34H')"
            ]
          },
          "metadata": {
            "tags": []
          },
          "execution_count": 10
        }
      ]
    },
    {
      "cell_type": "code",
      "metadata": {
        "colab": {
          "base_uri": "https://localhost:8080/"
        },
        "id": "ZBx1PP-9IZ7T",
        "outputId": "2ff606eb-ae65-4150-ea40-d277f32dd889"
      },
      "source": [
        "pd.date_range('2016 Dec 17 4:30', periods = 5, tz='Asia/Hong_Kong')"
      ],
      "execution_count": 11,
      "outputs": [
        {
          "output_type": "execute_result",
          "data": {
            "text/plain": [
              "DatetimeIndex(['2016-12-17 04:30:00+08:00', '2016-12-18 04:30:00+08:00',\n",
              "               '2016-12-19 04:30:00+08:00', '2016-12-20 04:30:00+08:00',\n",
              "               '2016-12-21 04:30:00+08:00'],\n",
              "              dtype='datetime64[ns, Asia/Hong_Kong]', freq='D')"
            ]
          },
          "metadata": {
            "tags": []
          },
          "execution_count": 11
        }
      ]
    },
    {
      "cell_type": "code",
      "metadata": {
        "colab": {
          "base_uri": "https://localhost:8080/"
        },
        "id": "SRSa4fwlIeHi",
        "outputId": "488b257c-8a34-4f74-f276-349edf5ab29e"
      },
      "source": [
        "pd.date_range(end='2016 Dec 28 4:45', periods = 10, tz='Asia/Hong_Kong')"
      ],
      "execution_count": 12,
      "outputs": [
        {
          "output_type": "execute_result",
          "data": {
            "text/plain": [
              "DatetimeIndex(['2016-12-19 04:45:00+08:00', '2016-12-20 04:45:00+08:00',\n",
              "               '2016-12-21 04:45:00+08:00', '2016-12-22 04:45:00+08:00',\n",
              "               '2016-12-23 04:45:00+08:00', '2016-12-24 04:45:00+08:00',\n",
              "               '2016-12-25 04:45:00+08:00', '2016-12-26 04:45:00+08:00',\n",
              "               '2016-12-27 04:45:00+08:00', '2016-12-28 04:45:00+08:00'],\n",
              "              dtype='datetime64[ns, Asia/Hong_Kong]', freq='D')"
            ]
          },
          "metadata": {
            "tags": []
          },
          "execution_count": 12
        }
      ]
    },
    {
      "cell_type": "code",
      "metadata": {
        "colab": {
          "base_uri": "https://localhost:8080/"
        },
        "id": "fB4cWyjRIgt5",
        "outputId": "2f81393f-b872-4080-8040-649b9d47a3c0"
      },
      "source": [
        "pd.date_range(start='2016 Dec 11 2:22', periods=10, freq='1D')"
      ],
      "execution_count": 13,
      "outputs": [
        {
          "output_type": "execute_result",
          "data": {
            "text/plain": [
              "DatetimeIndex(['2016-12-11 02:22:00', '2016-12-12 02:22:00',\n",
              "               '2016-12-13 02:22:00', '2016-12-14 02:22:00',\n",
              "               '2016-12-15 02:22:00', '2016-12-16 02:22:00',\n",
              "               '2016-12-17 02:22:00', '2016-12-18 02:22:00',\n",
              "               '2016-12-19 02:22:00', '2016-12-20 02:22:00'],\n",
              "              dtype='datetime64[ns]', freq='D')"
            ]
          },
          "metadata": {
            "tags": []
          },
          "execution_count": 13
        }
      ]
    },
    {
      "cell_type": "code",
      "metadata": {
        "colab": {
          "base_uri": "https://localhost:8080/"
        },
        "id": "wKfL91syIkLH",
        "outputId": "5ce29d4a-5317-4285-8605-4ef8015b54e5"
      },
      "source": [
        "pd.date_range(start='2016 Dec 11 2:22', periods=10, freq='1D', normalize=True)"
      ],
      "execution_count": 14,
      "outputs": [
        {
          "output_type": "execute_result",
          "data": {
            "text/plain": [
              "DatetimeIndex(['2016-12-11', '2016-12-12', '2016-12-13', '2016-12-14',\n",
              "               '2016-12-15', '2016-12-16', '2016-12-17', '2016-12-18',\n",
              "               '2016-12-19', '2016-12-20'],\n",
              "              dtype='datetime64[ns]', freq='D')"
            ]
          },
          "metadata": {
            "tags": []
          },
          "execution_count": 14
        }
      ]
    },
    {
      "cell_type": "code",
      "metadata": {
        "colab": {
          "base_uri": "https://localhost:8080/"
        },
        "id": "n-7PpPA4IoVf",
        "outputId": "c69c7e5b-bc54-4593-f33d-dfd6d0623420"
      },
      "source": [
        "pd.date_range(end='2016 Dec 11 3:14:25', periods=8, freq='1D')"
      ],
      "execution_count": 15,
      "outputs": [
        {
          "output_type": "execute_result",
          "data": {
            "text/plain": [
              "DatetimeIndex(['2016-12-04 03:14:25', '2016-12-05 03:14:25',\n",
              "               '2016-12-06 03:14:25', '2016-12-07 03:14:25',\n",
              "               '2016-12-08 03:14:25', '2016-12-09 03:14:25',\n",
              "               '2016-12-10 03:14:25', '2016-12-11 03:14:25'],\n",
              "              dtype='datetime64[ns]', freq='D')"
            ]
          },
          "metadata": {
            "tags": []
          },
          "execution_count": 15
        }
      ]
    },
    {
      "cell_type": "code",
      "metadata": {
        "colab": {
          "base_uri": "https://localhost:8080/"
        },
        "id": "C2h1XXweIufx",
        "outputId": "a855056b-f0f9-4701-a882-9e393b5875d3"
      },
      "source": [
        "pd.date_range(end='2016 Dec 11 3:14:25', periods=8, freq='1D', normalize=True)"
      ],
      "execution_count": 16,
      "outputs": [
        {
          "output_type": "execute_result",
          "data": {
            "text/plain": [
              "DatetimeIndex(['2016-12-04', '2016-12-05', '2016-12-06', '2016-12-07',\n",
              "               '2016-12-08', '2016-12-09', '2016-12-10', '2016-12-11'],\n",
              "              dtype='datetime64[ns]', freq='D')"
            ]
          },
          "metadata": {
            "tags": []
          },
          "execution_count": 16
        }
      ]
    },
    {
      "cell_type": "code",
      "metadata": {
        "colab": {
          "base_uri": "https://localhost:8080/"
        },
        "id": "A39i3wftI0vW",
        "outputId": "a1dde258-c443-4023-a8fa-ce2914e27b32"
      },
      "source": [
        "pd.date_range('Dec 9, 2016 3:23:55', periods = 5)"
      ],
      "execution_count": 17,
      "outputs": [
        {
          "output_type": "execute_result",
          "data": {
            "text/plain": [
              "DatetimeIndex(['2016-12-09 03:23:55', '2016-12-10 03:23:55',\n",
              "               '2016-12-11 03:23:55', '2016-12-12 03:23:55',\n",
              "               '2016-12-13 03:23:55'],\n",
              "              dtype='datetime64[ns]', freq='D')"
            ]
          },
          "metadata": {
            "tags": []
          },
          "execution_count": 17
        }
      ]
    },
    {
      "cell_type": "code",
      "metadata": {
        "colab": {
          "base_uri": "https://localhost:8080/"
        },
        "id": "7QvMDx3MI6hv",
        "outputId": "57ee0fff-3045-4038-96d1-82c4f0c34118"
      },
      "source": [
        "\r\n",
        "pd.date_range('12/15/2016', periods=6)"
      ],
      "execution_count": 18,
      "outputs": [
        {
          "output_type": "execute_result",
          "data": {
            "text/plain": [
              "DatetimeIndex(['2016-12-15', '2016-12-16', '2016-12-17', '2016-12-18',\n",
              "               '2016-12-19', '2016-12-20'],\n",
              "              dtype='datetime64[ns]', freq='D')"
            ]
          },
          "metadata": {
            "tags": []
          },
          "execution_count": 18
        }
      ]
    },
    {
      "cell_type": "code",
      "metadata": {
        "id": "XWBa7_h7I9Hq"
      },
      "source": [
        "\r\n",
        "import numpy as np\r\n",
        "import pandas as pd"
      ],
      "execution_count": 19,
      "outputs": []
    },
    {
      "cell_type": "code",
      "metadata": {
        "colab": {
          "base_uri": "https://localhost:8080/"
        },
        "id": "H8IG8hJzI_fa",
        "outputId": "2332d22e-56c1-4b5a-c769-c4648c772b31"
      },
      "source": [
        "pd.Timestamp('Dec 7, 2016')"
      ],
      "execution_count": 20,
      "outputs": [
        {
          "output_type": "execute_result",
          "data": {
            "text/plain": [
              "Timestamp('2016-12-07 00:00:00')"
            ]
          },
          "metadata": {
            "tags": []
          },
          "execution_count": 20
        }
      ]
    },
    {
      "cell_type": "code",
      "metadata": {
        "colab": {
          "base_uri": "https://localhost:8080/"
        },
        "id": "ASAyvjuHJBsd",
        "outputId": "20008b0b-4c9b-4bca-da43-77f25220b427"
      },
      "source": [
        "pd.Timestamp('2016-12-7 5:25:45.123344544')"
      ],
      "execution_count": 21,
      "outputs": [
        {
          "output_type": "execute_result",
          "data": {
            "text/plain": [
              "Timestamp('2016-12-07 05:25:45.123344544')"
            ]
          },
          "metadata": {
            "tags": []
          },
          "execution_count": 21
        }
      ]
    },
    {
      "cell_type": "code",
      "metadata": {
        "colab": {
          "base_uri": "https://localhost:8080/"
        },
        "id": "YwsiPnLvJD0s",
        "outputId": "be1d27c3-3160-4e0f-f0a4-fb499c2b20b9"
      },
      "source": [
        "\r\n",
        "pd.Timestamp('2016-12-23 3:25:00') + pd.Timedelta('3 days 3 hours 3M')"
      ],
      "execution_count": 22,
      "outputs": [
        {
          "output_type": "execute_result",
          "data": {
            "text/plain": [
              "Timestamp('2016-12-26 06:28:00')"
            ]
          },
          "metadata": {
            "tags": []
          },
          "execution_count": 22
        }
      ]
    },
    {
      "cell_type": "code",
      "metadata": {
        "colab": {
          "base_uri": "https://localhost:8080/"
        },
        "id": "bw2pYaVRJHGJ",
        "outputId": "f0930dfb-3a37-47d0-bfca-ef15faf8e403"
      },
      "source": [
        "\r\n",
        "pd.Period('2016-12')"
      ],
      "execution_count": 23,
      "outputs": [
        {
          "output_type": "execute_result",
          "data": {
            "text/plain": [
              "Period('2016-12', 'M')"
            ]
          },
          "metadata": {
            "tags": []
          },
          "execution_count": 23
        }
      ]
    },
    {
      "cell_type": "code",
      "metadata": {
        "colab": {
          "base_uri": "https://localhost:8080/"
        },
        "id": "LI05emXcJKr1",
        "outputId": "1333b573-e984-49b3-89ce-692102c75787"
      },
      "source": [
        "pd.Period('2016-12-29')"
      ],
      "execution_count": 25,
      "outputs": [
        {
          "output_type": "execute_result",
          "data": {
            "text/plain": [
              "Period('2016-12-29', 'D')"
            ]
          },
          "metadata": {
            "tags": []
          },
          "execution_count": 25
        }
      ]
    },
    {
      "cell_type": "code",
      "metadata": {
        "colab": {
          "base_uri": "https://localhost:8080/"
        },
        "id": "GP01X30YJM2W",
        "outputId": "6c552665-e7d8-4899-99a0-68ca2dd88072"
      },
      "source": [
        "pd.Period('2016-12-29 5:25:00')"
      ],
      "execution_count": 26,
      "outputs": [
        {
          "output_type": "execute_result",
          "data": {
            "text/plain": [
              "Period('2016-12-29 05:25:00', 'S')"
            ]
          },
          "metadata": {
            "tags": []
          },
          "execution_count": 26
        }
      ]
    },
    {
      "cell_type": "code",
      "metadata": {
        "colab": {
          "base_uri": "https://localhost:8080/"
        },
        "id": "eZSO-3NIJS7E",
        "outputId": "2690395f-c673-4862-aa32-8d2aff657676"
      },
      "source": [
        "pd.Period('2016-12-29 5:25')"
      ],
      "execution_count": 27,
      "outputs": [
        {
          "output_type": "execute_result",
          "data": {
            "text/plain": [
              "Period('2016-12-29 05:25', 'T')"
            ]
          },
          "metadata": {
            "tags": []
          },
          "execution_count": 27
        }
      ]
    },
    {
      "cell_type": "code",
      "metadata": {
        "id": "aNP2LgKIJVQc"
      },
      "source": [
        "period = pd.Period('2016-12')"
      ],
      "execution_count": 28,
      "outputs": []
    },
    {
      "cell_type": "code",
      "metadata": {
        "colab": {
          "base_uri": "https://localhost:8080/"
        },
        "id": "C4wGjJitJXJa",
        "outputId": "22c5d6c4-b61d-4dca-e5d0-96664eadd947"
      },
      "source": [
        "period.end_time"
      ],
      "execution_count": 29,
      "outputs": [
        {
          "output_type": "execute_result",
          "data": {
            "text/plain": [
              "Timestamp('2016-12-31 23:59:59.999999999')"
            ]
          },
          "metadata": {
            "tags": []
          },
          "execution_count": 29
        }
      ]
    },
    {
      "cell_type": "code",
      "metadata": {
        "colab": {
          "base_uri": "https://localhost:8080/"
        },
        "id": "s0HPnnY8JZW9",
        "outputId": "15d24957-9afd-41cb-8c1b-8d30a248a597"
      },
      "source": [
        "period.start_time"
      ],
      "execution_count": 30,
      "outputs": [
        {
          "output_type": "execute_result",
          "data": {
            "text/plain": [
              "Timestamp('2016-12-01 00:00:00')"
            ]
          },
          "metadata": {
            "tags": []
          },
          "execution_count": 30
        }
      ]
    },
    {
      "cell_type": "code",
      "metadata": {
        "id": "Rmj6RboFJd2d"
      },
      "source": [
        "period = pd.Period('2016-12-29')"
      ],
      "execution_count": 31,
      "outputs": []
    },
    {
      "cell_type": "code",
      "metadata": {
        "colab": {
          "base_uri": "https://localhost:8080/"
        },
        "id": "saOWkFY-JgFk",
        "outputId": "b73147fe-02f8-45e7-c009-8948610b56a2"
      },
      "source": [
        "period"
      ],
      "execution_count": 32,
      "outputs": [
        {
          "output_type": "execute_result",
          "data": {
            "text/plain": [
              "Period('2016-12-29', 'D')"
            ]
          },
          "metadata": {
            "tags": []
          },
          "execution_count": 32
        }
      ]
    },
    {
      "cell_type": "code",
      "metadata": {
        "colab": {
          "base_uri": "https://localhost:8080/"
        },
        "id": "ZQciJ8vVJhVY",
        "outputId": "7c89876c-9cfc-4556-b4f4-4530ab8696d6"
      },
      "source": [
        "period.end_time"
      ],
      "execution_count": 33,
      "outputs": [
        {
          "output_type": "execute_result",
          "data": {
            "text/plain": [
              "Timestamp('2016-12-29 23:59:59.999999999')"
            ]
          },
          "metadata": {
            "tags": []
          },
          "execution_count": 33
        }
      ]
    },
    {
      "cell_type": "code",
      "metadata": {
        "colab": {
          "base_uri": "https://localhost:8080/"
        },
        "id": "1VKMJZTdJjnk",
        "outputId": "afe2cb50-f0b7-4bb9-d692-9875ef2ab3ff"
      },
      "source": [
        "period.start_time"
      ],
      "execution_count": 34,
      "outputs": [
        {
          "output_type": "execute_result",
          "data": {
            "text/plain": [
              "Timestamp('2016-12-29 00:00:00')"
            ]
          },
          "metadata": {
            "tags": []
          },
          "execution_count": 34
        }
      ]
    },
    {
      "cell_type": "code",
      "metadata": {
        "id": "n5dbqDsLJoWz"
      },
      "source": [
        ""
      ],
      "execution_count": null,
      "outputs": []
    }
  ]
}